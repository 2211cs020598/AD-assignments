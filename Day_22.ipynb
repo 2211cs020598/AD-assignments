{
  "nbformat": 4,
  "nbformat_minor": 0,
  "metadata": {
    "colab": {
      "provenance": [],
      "authorship_tag": "ABX9TyMJ1zZHeWvkXldHZmT38oD2",
      "include_colab_link": true
    },
    "kernelspec": {
      "name": "python3",
      "display_name": "Python 3"
    },
    "language_info": {
      "name": "python"
    }
  },
  "cells": [
    {
      "cell_type": "markdown",
      "metadata": {
        "id": "view-in-github",
        "colab_type": "text"
      },
      "source": [
        "<a href=\"https://colab.research.google.com/github/2211cs020598/AD-assignments/blob/main/Day_22.ipynb\" target=\"_parent\"><img src=\"https://colab.research.google.com/assets/colab-badge.svg\" alt=\"Open In Colab\"/></a>"
      ]
    },
    {
      "cell_type": "code",
      "execution_count": 1,
      "metadata": {
        "colab": {
          "base_uri": "https://localhost:8080/"
        },
        "id": "94lCwnNokYND",
        "outputId": "346d9ef6-1c1e-4900-f0e3-525c585dfa07"
      },
      "outputs": [
        {
          "output_type": "stream",
          "name": "stdout",
          "text": [
            "Word: NLP, POS: PROPN\n",
            "Word: is, POS: AUX\n",
            "Word: amazing, POS: ADJ\n",
            "Word: and, POS: CCONJ\n",
            "Word: fun, POS: ADJ\n",
            "Word: to, POS: PART\n",
            "Word: learn, POS: VERB\n",
            "Word: ., POS: PUNCT\n"
          ]
        }
      ],
      "source": [
        "#Day-22\n",
        "import spacy\n",
        "nlp = spacy.load('en_core_web_sm')\n",
        "sentence = \"NLP is amazing and fun to learn.\"\n",
        "doc = nlp(sentence)\n",
        "for token in doc:\n",
        "    print(f\"Word: {token.text}, POS: {token.pos_}\")"
      ]
    }
  ]
}