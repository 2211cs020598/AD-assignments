{
  "nbformat": 4,
  "nbformat_minor": 0,
  "metadata": {
    "colab": {
      "provenance": [],
      "authorship_tag": "ABX9TyMGly/JouM4hJwS3YljNQFE",
      "include_colab_link": true
    },
    "kernelspec": {
      "name": "python3",
      "display_name": "Python 3"
    },
    "language_info": {
      "name": "python"
    }
  },
  "cells": [
    {
      "cell_type": "markdown",
      "metadata": {
        "id": "view-in-github",
        "colab_type": "text"
      },
      "source": [
        "<a href=\"https://colab.research.google.com/github/2211cs020598/AD-assignments/blob/main/Day_24.ipynb\" target=\"_parent\"><img src=\"https://colab.research.google.com/assets/colab-badge.svg\" alt=\"Open In Colab\"/></a>"
      ]
    },
    {
      "cell_type": "code",
      "execution_count": 1,
      "metadata": {
        "colab": {
          "base_uri": "https://localhost:8080/"
        },
        "id": "-etDQO2y_yIT",
        "outputId": "69d9eec4-d5e6-45ae-b7e9-413748847fbe"
      },
      "outputs": [
        {
          "output_type": "stream",
          "name": "stderr",
          "text": [
            "[nltk_data] Downloading package punkt to /root/nltk_data...\n",
            "[nltk_data]   Unzipping tokenizers/punkt.zip.\n",
            "[nltk_data] Downloading package punkt_tab to /root/nltk_data...\n",
            "[nltk_data]   Unzipping tokenizers/punkt_tab.zip.\n"
          ]
        },
        {
          "output_type": "stream",
          "name": "stdout",
          "text": [
            "Enter the path to the text file: spam.text\n",
            "Error: File 'spam.text' not found.\n"
          ]
        }
      ],
      "source": [
        "# Day-24\n",
        "import nltk\n",
        "from nltk.tokenize import word_tokenize\n",
        "from collections import Counter\n",
        "import re\n",
        "\n",
        "nltk.download('punkt')\n",
        "nltk.download('punkt_tab')\n",
        "def find_most_common_words(file_path):\n",
        "    try:\n",
        "\n",
        "        with open(file_path, 'r') as file:\n",
        "            text = file.read()\n",
        "\n",
        "        cleaned_text = re.sub(r'[^\\w\\s]', '', text.lower())\n",
        "\n",
        "        tokens = word_tokenize(cleaned_text)\n",
        "\n",
        "        word_counts = Counter(tokens)\n",
        "\n",
        "        most_common = word_counts.most_common(10)\n",
        "\n",
        "        print(\"10 Most Common Words:\")\n",
        "        for word, count in most_common:\n",
        "            print(f\"{word}: {count}\")\n",
        "    except FileNotFoundError:\n",
        "        print(f\"Error: File '{file_path}' not found.\")\n",
        "    except Exception as e:\n",
        "        print(f\"An error occurred: {e}\")\n",
        "\n",
        "file_path = input(\"Enter the path to the text file: \")\n",
        "\n",
        "find_most_common_words(file_path)"
      ]
    }
  ]
}