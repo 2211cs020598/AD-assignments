{
  "nbformat": 4,
  "nbformat_minor": 0,
  "metadata": {
    "colab": {
      "provenance": [],
      "authorship_tag": "ABX9TyOgA5EGRma8ae1O9MM6lEqZ",
      "include_colab_link": true
    },
    "kernelspec": {
      "name": "python3",
      "display_name": "Python 3"
    },
    "language_info": {
      "name": "python"
    }
  },
  "cells": [
    {
      "cell_type": "markdown",
      "metadata": {
        "id": "view-in-github",
        "colab_type": "text"
      },
      "source": [
        "<a href=\"https://colab.research.google.com/github/2211cs020598/AD-assignments/blob/main/Day_32.ipynb\" target=\"_parent\"><img src=\"https://colab.research.google.com/assets/colab-badge.svg\" alt=\"Open In Colab\"/></a>"
      ]
    },
    {
      "cell_type": "code",
      "execution_count": 1,
      "metadata": {
        "colab": {
          "base_uri": "https://localhost:8080/"
        },
        "id": "--YgauKuBt5P",
        "outputId": "ecf3f7ef-3842-4ec5-b614-195b03b9e95c"
      },
      "outputs": [
        {
          "output_type": "stream",
          "name": "stdout",
          "text": [
            "Enter the path to the text file: spam.csv\n",
            "Error: File 'spam.csv' not found.\n"
          ]
        }
      ],
      "source": [
        "# Day-32\n",
        "from collections import Counter\n",
        "import re\n",
        "\n",
        "def process_text_file(file_path):\n",
        "    try:\n",
        "        with open(file_path, 'r') as file:\n",
        "            text = file.read()\n",
        "        tokens = re.findall(r'\\b\\w+\\b', text.lower())\n",
        "        term_frequency = Counter(tokens)\n",
        "        top_tokens = term_frequency.most_common(5)\n",
        "\n",
        "        print(\"Top 5 Most Frequent Tokens:\")\n",
        "        for token, freq in top_tokens:\n",
        "            print(f\"{token}: {freq}\")\n",
        "    except FileNotFoundError:\n",
        "        print(f\"Error: File '{file_path}' not found.\")\n",
        "    except Exception as e:\n",
        "        print(f\"An error occurred: {e}\")\n",
        "\n",
        "file_path = input(\"Enter the path to the text file: \")\n",
        "process_text_file(file_path)"
      ]
    }
  ]
}