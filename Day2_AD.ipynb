{
  "nbformat": 4,
  "nbformat_minor": 0,
  "metadata": {
    "colab": {
      "provenance": []
    },
    "kernelspec": {
      "name": "python3",
      "display_name": "Python 3"
    },
    "language_info": {
      "name": "python"
    }
  },
  "cells": [
    {
      "cell_type": "code",
      "execution_count": null,
      "metadata": {
        "colab": {
          "base_uri": "https://localhost:8080/"
        },
        "id": "4nN8nt2Y1f6V",
        "outputId": "3c494dae-612d-4bb7-90f6-dae8b5dfb244"
      },
      "outputs": [
        {
          "output_type": "stream",
          "name": "stdout",
          "text": [
            "Integer value: 10 | Type: <class 'int'>\n",
            "Float value: 3.14 | Type: <class 'float'>\n",
            "String value: Hello, World | Type: <class 'str'>\n",
            "Boolean value: True | Type: <class 'bool'>\n"
          ]
        }
      ],
      "source": [
        "#Write a program in Jupyter Notebook to declare variables of different data types (integer, float, string, and boolean). Print each variable and its type.\n",
        "\n",
        "integer_var = 10\n",
        "float_var = 3.14\n",
        "string_var = \"Hello, World\"\n",
        "boolean_var = True\n",
        "print(\"Integer value:\", integer_var, \"| Type:\", type(integer_var))\n",
        "print(\"Float value:\", float_var, \"| Type:\", type(float_var))\n",
        "print(\"String value:\", string_var, \"| Type:\", type(string_var))\n",
        "print(\"Boolean value:\", boolean_var, \"| Type:\", type(boolean_var))"
      ]
    },
    {
      "cell_type": "code",
      "source": [],
      "metadata": {
        "id": "Gy1fqV5F2Zoh"
      },
      "execution_count": null,
      "outputs": []
    }
  ]
}