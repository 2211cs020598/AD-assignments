{
  "nbformat": 4,
  "nbformat_minor": 0,
  "metadata": {
    "colab": {
      "provenance": [],
      "authorship_tag": "ABX9TyP2RVlvEBVOGbUkzYmHv/ri",
      "include_colab_link": true
    },
    "kernelspec": {
      "name": "python3",
      "display_name": "Python 3"
    },
    "language_info": {
      "name": "python"
    }
  },
  "cells": [
    {
      "cell_type": "markdown",
      "metadata": {
        "id": "view-in-github",
        "colab_type": "text"
      },
      "source": [
        "<a href=\"https://colab.research.google.com/github/2211cs020598/AD-assignments/blob/main/Day_30.ipynb\" target=\"_parent\"><img src=\"https://colab.research.google.com/assets/colab-badge.svg\" alt=\"Open In Colab\"/></a>"
      ]
    },
    {
      "cell_type": "code",
      "execution_count": null,
      "metadata": {
        "colab": {
          "base_uri": "https://localhost:8080/"
        },
        "id": "lYa8R7SZBWAg",
        "outputId": "09d018a2-f1f4-4437-b480-85d4ef57b408"
      },
      "outputs": [
        {
          "output_type": "stream",
          "name": "stdout",
          "text": [
            "Enter text for sentiment analysis: english\n",
            "Sentiment: Neutral (Polarity: 0.0)\n"
          ]
        }
      ],
      "source": [
        "# Day-30\n",
        "from textblob import TextBlob\n",
        "\n",
        "def analyze_sentiment(text):\n",
        "    blob = TextBlob(text)\n",
        "    polarity = blob.sentiment.polarity\n",
        "    if polarity > 0:\n",
        "        sentiment = \"Positive\"\n",
        "    elif polarity < 0:\n",
        "        sentiment = \"Negative\"\n",
        "    else:\n",
        "        sentiment = \"Neutral\"\n",
        "    print(f\"Sentiment: {sentiment} (Polarity: {polarity})\")\n",
        "text = input(\"Enter text for sentiment analysis: \")\n",
        "analyze_sentiment(text)"
      ]
    }
  ]
}