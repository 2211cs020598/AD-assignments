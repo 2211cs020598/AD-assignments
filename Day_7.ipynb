{
  "nbformat": 4,
  "nbformat_minor": 0,
  "metadata": {
    "colab": {
      "provenance": [],
      "authorship_tag": "ABX9TyP/THDDhnKDlW+621EcZEGT",
      "include_colab_link": true
    },
    "kernelspec": {
      "name": "python3",
      "display_name": "Python 3"
    },
    "language_info": {
      "name": "python"
    }
  },
  "cells": [
    {
      "cell_type": "markdown",
      "metadata": {
        "id": "view-in-github",
        "colab_type": "text"
      },
      "source": [
        "<a href=\"https://colab.research.google.com/github/2211cs020598/AD-assignments/blob/main/Day_7.ipynb\" target=\"_parent\"><img src=\"https://colab.research.google.com/assets/colab-badge.svg\" alt=\"Open In Colab\"/></a>"
      ]
    },
    {
      "cell_type": "code",
      "source": [
        "# Day-7\n",
        "import nltk\n",
        "from nltk.corpus import stopwords\n",
        "import spacy\n",
        "\n",
        "nltk.download('stopwords')\n",
        "\n",
        "nlp = spacy.load(\"en_core_web_sm\")\n",
        "\n",
        "text = input(\"Enter the text: \")\n",
        "\n",
        "doc = nlp(text.lower())\n",
        "\n",
        "stop_words = set(stopwords.words('english'))\n",
        "filtered_tokens = [token.text for token in doc if token.text not in stop_words and token.is_alpha]\n",
        "\n",
        "print(\"\\nOriginal Text:\")\n",
        "print(text)\n",
        "\n",
        "print(\"\\nTokens After Removing Stopwords:\")\n",
        "print(filtered_tokens)"
      ],
      "metadata": {
        "colab": {
          "base_uri": "https://localhost:8080/"
        },
        "id": "VMuHwlTPLaUY",
        "outputId": "2c90d140-dcbd-42a0-fce4-9e95c9d5d91a"
      },
      "execution_count": 6,
      "outputs": [
        {
          "output_type": "stream",
          "name": "stderr",
          "text": [
            "[nltk_data] Downloading package stopwords to /root/nltk_data...\n",
            "[nltk_data]   Package stopwords is already up-to-date!\n"
          ]
        },
        {
          "output_type": "stream",
          "name": "stdout",
          "text": [
            "Enter the text: spam\n",
            "\n",
            "Original Text:\n",
            "spam\n",
            "\n",
            "Tokens After Removing Stopwords:\n",
            "['spam']\n"
          ]
        }
      ]
    }
  ]
}