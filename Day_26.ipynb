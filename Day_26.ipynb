{
  "nbformat": 4,
  "nbformat_minor": 0,
  "metadata": {
    "colab": {
      "provenance": [],
      "authorship_tag": "ABX9TyM1LsKbGz8s6IeAqTLXNWfr",
      "include_colab_link": true
    },
    "kernelspec": {
      "name": "python3",
      "display_name": "Python 3"
    },
    "language_info": {
      "name": "python"
    }
  },
  "cells": [
    {
      "cell_type": "markdown",
      "metadata": {
        "id": "view-in-github",
        "colab_type": "text"
      },
      "source": [
        "<a href=\"https://colab.research.google.com/github/2211cs020598/AD-assignments/blob/main/Day_26.ipynb\" target=\"_parent\"><img src=\"https://colab.research.google.com/assets/colab-badge.svg\" alt=\"Open In Colab\"/></a>"
      ]
    },
    {
      "cell_type": "code",
      "execution_count": 2,
      "metadata": {
        "colab": {
          "base_uri": "https://localhost:8080/"
        },
        "id": "DsKdTF4rAMYj",
        "outputId": "f795d4f1-31a8-4f8a-d541-921f2548cd05"
      },
      "outputs": [
        {
          "output_type": "stream",
          "name": "stdout",
          "text": [
            "Enter the first string: english\n",
            "Enter the second string: language\n",
            "Cosine Similarity: 0.0\n"
          ]
        }
      ],
      "source": [
        "# Day-26\n",
        "from sklearn.feature_extraction.text import TfidfVectorizer\n",
        "from sklearn.metrics.pairwise import cosine_similarity\n",
        "\n",
        "def calculate_cosine_similarity(string1, string2):\n",
        "\n",
        "    vectorizer = TfidfVectorizer()\n",
        "\n",
        "\n",
        "    tfidf_matrix = vectorizer.fit_transform([string1, string2])\n",
        "\n",
        "\n",
        "    similarity = cosine_similarity(tfidf_matrix[0:1], tfidf_matrix[1:2])\n",
        "\n",
        "    print(f\"Cosine Similarity: {similarity[0][0]}\")\n",
        "\n",
        "\n",
        "string1 = input(\"Enter the first string: \")\n",
        "string2 = input(\"Enter the second string: \")\n",
        "\n",
        "\n",
        "calculate_cosine_similarity(string1, string2)"
      ]
    }
  ]
}