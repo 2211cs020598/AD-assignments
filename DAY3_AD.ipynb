{
  "nbformat": 4,
  "nbformat_minor": 0,
  "metadata": {
    "colab": {
      "provenance": [],
      "authorship_tag": "ABX9TyMlO2zM0S40MTvlHFUnWDSZ",
      "include_colab_link": true
    },
    "kernelspec": {
      "name": "python3",
      "display_name": "Python 3"
    },
    "language_info": {
      "name": "python"
    }
  },
  "cells": [
    {
      "cell_type": "markdown",
      "metadata": {
        "id": "view-in-github",
        "colab_type": "text"
      },
      "source": [
        "<a href=\"https://colab.research.google.com/github/2211cs020598/AD-assignments/blob/main/DAY3_AD.ipynb\" target=\"_parent\"><img src=\"https://colab.research.google.com/assets/colab-badge.svg\" alt=\"Open In Colab\"/></a>"
      ]
    },
    {
      "cell_type": "code",
      "execution_count": null,
      "metadata": {
        "colab": {
          "base_uri": "https://localhost:8080/"
        },
        "id": "zDQ9so9E7eIr",
        "outputId": "a6f5c358-f169-45d4-cdee-273b6b4764bc"
      },
      "outputs": [
        {
          "output_type": "stream",
          "name": "stdout",
          "text": [
            "List: [10, 20, 30, 40, 50]\n",
            "Accessing elements from list:\n",
            "Element at index 0: 10\n",
            "Element at index 3: 40\n",
            "Last element: 50\n",
            "\n",
            "Tuple: ('apple', 'banana', 'cherry', 'date', 'elderberry')\n",
            "Accessing elements from tuple:\n",
            "Element at index 1: banana\n",
            "Element at index 4: elderberry\n",
            "First element: apple\n",
            "\n",
            "Dictionary: {'name': 'John', 'age': 25, 'city': 'New York', 'country': 'USA', 'profession': 'Engineer'}\n",
            "Accessing elements from dictionary:\n",
            "Value of key 'name': John\n",
            "Value of key 'city': New York\n",
            "Value of key 'profession': Engineer\n"
          ]
        }
      ],
      "source": [
        "#Create a List, tuple and Dictionary with 5 elements in it and how to access few elements based on the index. Try  with different examples\n",
        "my_list = [10, 20, 30, 40, 50]\n",
        "print(\"List:\", my_list)\n",
        "print(\"Accessing elements from list:\")\n",
        "print(\"Element at index 0:\", my_list[0])\n",
        "print(\"Element at index 3:\", my_list[3])\n",
        "print(\"Last element:\", my_list[-1])\n",
        "\n",
        "my_tuple = ('apple', 'banana', 'cherry', 'date', 'elderberry')\n",
        "print(\"\\nTuple:\", my_tuple)\n",
        "print(\"Accessing elements from tuple:\")\n",
        "print(\"Element at index 1:\", my_tuple[1])\n",
        "print(\"Element at index 4:\", my_tuple[4])\n",
        "print(\"First element:\", my_tuple[0])\n",
        "\n",
        "my_dict = {\n",
        "    'name': 'John',\n",
        "    'age': 25,\n",
        "    'city': 'New York',\n",
        "    'country': 'USA',\n",
        "    'profession': 'Engineer'\n",
        "}\n",
        "print(\"\\nDictionary:\", my_dict)\n",
        "print(\"Accessing elements from dictionary:\")\n",
        "print(\"Value of key 'name':\", my_dict['name'])\n",
        "print(\"Value of key 'city':\", my_dict['city'])\n",
        "print(\"Value of key 'profession':\", my_dict['profession'])"
      ]
    }
  ]
}