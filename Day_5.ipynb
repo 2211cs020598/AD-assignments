{
  "nbformat": 4,
  "nbformat_minor": 0,
  "metadata": {
    "colab": {
      "provenance": [],
      "authorship_tag": "ABX9TyPZ45ZnqR75b8u/HsS6ZSyK",
      "include_colab_link": true
    },
    "kernelspec": {
      "name": "python3",
      "display_name": "Python 3"
    },
    "language_info": {
      "name": "python"
    }
  },
  "cells": [
    {
      "cell_type": "markdown",
      "metadata": {
        "id": "view-in-github",
        "colab_type": "text"
      },
      "source": [
        "<a href=\"https://colab.research.google.com/github/2211cs020598/AD-assignments/blob/main/Day_5.ipynb\" target=\"_parent\"><img src=\"https://colab.research.google.com/assets/colab-badge.svg\" alt=\"Open In Colab\"/></a>"
      ]
    },
    {
      "cell_type": "code",
      "execution_count": 1,
      "metadata": {
        "colab": {
          "base_uri": "https://localhost:8080/"
        },
        "id": "4E_BbqYMHOkC",
        "outputId": "24860c3c-65b6-47a7-931b-ab8ca3a8c42c"
      },
      "outputs": [
        {
          "output_type": "stream",
          "name": "stdout",
          "text": [
            "Enter the text: Split\n",
            "\n",
            "Word Frequencies:\n",
            "split: 1\n"
          ]
        }
      ],
      "source": [
        "# Day-5\n",
        "text = input(\"Enter the text: \")\n",
        "words = text.split()\n",
        "word_freq = {}\n",
        "for word in words:\n",
        "    word = word.lower()\n",
        "    word_freq[word] = word_freq.get(word, 0) + 1\n",
        "print(\"\\nWord Frequencies:\")\n",
        "for word, count in word_freq.items():\n",
        "    print(f\"{word}: {count}\")"
      ]
    }
  ]
}